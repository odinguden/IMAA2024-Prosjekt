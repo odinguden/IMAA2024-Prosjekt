{
 "cells": [
  {
   "cell_type": "markdown",
   "metadata": {},
   "source": [
    "## Oppgave 7: Luften skal med (10 poeng)\n",
    "\n",
    "Vår antagelse at temperaturen i luften holdes konstant ved $200$ grader er ikke realistisk. I realiteten vil temperaturen i ovnen gå ned når et kaldere legeme settes inn i ovnen. \n",
    "\n",
    "Det vil også oppstå konveksjon, men dette er noe vi vil ignorere i denne oppgaven.\n",
    "\n",
    "Vi tar et lag av luft rundt legemet med i modellen. I luftlaget så har vi fortsatt den partielle differensiallikningen\n",
    "$$\n",
    "\\begin{align}\\tag{20}\n",
    "u_t = \\alpha \\cdot ( u_{xx} + u_{yy} ),\n",
    "\\end{align}\n",
    "$$\n",
    "hvor $\\alpha$ tar en annen lavere verdi som passer bedre til luft.\n",
    "\n",
    "På randen rundt luftlaget har vi fortsatt konstant temperatur $200$ for alle verdier av $t$.\n",
    "\n",
    "I luftlaget så er temperaturen $200$ grader når $t=0$. Temperaturen til legemet vi setter inn ved $t=0$ er $15$ grader.\n",
    "\n",
    "Bredden og høyden av luftlaget skal være omtrent halvparten av bredden og høyden til legemet. Dere kan selv bestemme de nøyaktige dimensjonene."
   ]
  },
  {
   "cell_type": "markdown",
   "metadata": {},
   "source": [
    "### a)\n",
    "\n",
    "Sett opp problemet og kjør beregningene fra oppgave 6 på nytt. Det vil si, sett opp den partielle differensiallikningen med rand- og initialbetingelser. Løs deretter likningen numerisk.\n",
    "\n",
    "Legg ved et *varmeplot* (altså fargeplot med rødt for varmt og blått for kaldt) for noen ulike tidspunkt."
   ]
  },
  {
   "cell_type": "markdown",
   "metadata": {},
   "source": [
    "### b)\n",
    "\n",
    "Lag en animasjon som viser hvordan temperaturen til legemet endrer seg over tid.\n",
    "\n",
    "Dere trenger ikke inkludere animasjonen i rapporten, men inkluder kildekode, og diskuter hva dere observerer."
   ]
  },
  {
   "cell_type": "markdown",
   "metadata": {},
   "source": [
    "### c)\n",
    "\n",
    "Hvor lang tid tar det før temperaturen i midten av legemet når 60 grader? Tegn et varmeplot for tidspunktet dette skjer."
   ]
  },
  {
   "cell_type": "markdown",
   "metadata": {},
   "source": []
  }
 ],
 "metadata": {
  "language_info": {
   "name": "python"
  }
 },
 "nbformat": 4,
 "nbformat_minor": 2
}

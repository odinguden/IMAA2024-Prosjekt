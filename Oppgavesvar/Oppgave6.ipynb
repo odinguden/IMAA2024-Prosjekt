{
 "cells": [
  {
   "cell_type": "markdown",
   "metadata": {},
   "source": [
    "## Oppgave 6: Varmeligning,  (10 poeng)\n",
    "\n",
    "Nå skal vi modellere steking av et legeme i en ovn. Vi ser på et tverrsnitt av legemet, slik at vi kun trenger de to koordinatretningene $x$ og $y$, og ikke dybderetningen $z$ for ovnen og legemet. \n",
    "\n",
    "Den partielle differensiallikningen er lik\n",
    "$$\n",
    "\\begin{align}\\tag{19}\n",
    "u_t = \\alpha\\cdot(u_{xx} + u_{yy}),\n",
    "\\end{align}\n",
    "$$\n",
    "hvor $\\alpha$ er legemets *termiske diffusivitet*. Passende tall for $\\alpha$ kan slås opp på nett.\n",
    "\n",
    "Vi antar at temperaturen av luft i ovnen holdes konstant på $200$ grader Celsius hele tiden, og bruker altså randbetingelsene at $u(x,y)=200$ på alle kantene av legemet.\n",
    "\n",
    "Differensialligningen er kun definert for legemet, vi tar ikke med ovnen rundt i denne oppgaven.\n",
    "\n",
    "Ved tiden $t=0$ (når legemet settes i ovnen) så er temperaturen lik $15$ grader i hele legemet."
   ]
  },
  {
   "cell_type": "markdown",
   "metadata": {},
   "source": [
    "\n",
    "### a)\n",
    "\n",
    "Velg en gjenstand å ta utgangspunkt i, hvor gjendstanden skal ha et rektangulært tverrsnitt. Hvilket materiale har gjenstanden, og hva er den termiske diffusitiviteten $\\alpha$?\n",
    "\n",
    "Bestem deretter hvilke verdier for koordinatene $x$ og $y$ som beskriver gjenstanden."
   ]
  },
  {
   "cell_type": "code",
   "execution_count": null,
   "metadata": {},
   "outputs": [],
   "source": [
    "# Vi tar utgangspunkt i et brød \n",
    "\n",
    "alpha = 0\n",
    "\n",
    "x = {}\n",
    "y = {}"
   ]
  },
  {
   "cell_type": "markdown",
   "metadata": {},
   "source": [
    "### b)\n",
    "\n",
    "Sett opp den partielle differensiallikningen med rand- og initialbetingelser. Løs deretter likningen numerisk.\n",
    "\n",
    "Legg ved *varmeplot* (altså fargeplot med rødt for varmt og blått for kaldt) for noen ulike tidspunkt."
   ]
  },
  {
   "cell_type": "markdown",
   "metadata": {},
   "source": [
    "### c)\n",
    "\n",
    "Hvor lang tid tar det før temperaturen i midten av legemet når 60 grader? Legg ved et varmeplot for tidspunktet dette skjer."
   ]
  },
  {
   "cell_type": "markdown",
   "metadata": {},
   "source": [
    "### d)\n",
    "\n",
    "Lag en animasjon som viser hvordan temperaturen til legemet endrer seg over tid.\n",
    "\n",
    "Dere trenger ikke å ta med animasjonen i rapporten, men inkluder kildekode og forklar hva dere observerer."
   ]
  },
  {
   "cell_type": "markdown",
   "metadata": {},
   "source": []
  },
  {
   "cell_type": "markdown",
   "metadata": {},
   "source": []
  }
 ],
 "metadata": {
  "kernelspec": {
   "display_name": "base",
   "language": "python",
   "name": "python3"
  },
  "language_info": {
   "codemirror_mode": {
    "name": "ipython",
    "version": 3
   },
   "file_extension": ".py",
   "mimetype": "text/x-python",
   "name": "python",
   "nbconvert_exporter": "python",
   "pygments_lexer": "ipython3",
   "version": "3.11.5"
  }
 },
 "nbformat": 4,
 "nbformat_minor": 2
}

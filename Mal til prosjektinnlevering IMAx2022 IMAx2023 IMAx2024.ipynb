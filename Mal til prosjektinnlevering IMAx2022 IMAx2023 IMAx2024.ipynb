{
 "cells": [
  {
   "cell_type": "markdown",
   "metadata": {},
   "source": [
    "# Prosjekt for IMAx2022/IMAx2023/IMAx2024\n",
    "\n",
    "\n",
    "\n"
   ]
  },
  {
   "cell_type": "markdown",
   "metadata": {},
   "source": [
    "# Hovedprosjekt:\n",
    "\n",
    "\n",
    "## Del 1: Trafikkmodell: tetthet, hastighet og fluks\n"
   ]
  },
  {
   "cell_type": "markdown",
   "metadata": {},
   "source": [
    "## Oppgave 1. (10 poeng)\n",
    "\n",
    "### a) Funksjonen $u(x,t)$.\n",
    "\n",
    "i) \n",
    "\n",
    "ii) \n",
    "\n",
    "iii) \n",
    "\n",
    "### b) Funksjonen $v=v(u)$\n",
    "\n",
    "i) \n",
    "\n",
    "ii) \n",
    "\n",
    "iii) \n",
    "\n",
    "### c) De deriverte\n",
    "\n",
    "i) \n",
    "\n",
    "ii) \n",
    "\n",
    "### d) Utregning av fluksen\n",
    "\n",
    "\n",
    "\n",
    "### e) Maksimal fluks \n",
    "\n",
    "\n",
    "i) \n",
    "\n",
    "ii) \n",
    "\n",
    "\n",
    "### f) Differensiallikningen\n",
    "\n",
    "\n"
   ]
  },
  {
   "cell_type": "markdown",
   "metadata": {},
   "source": [
    "## Oppgave 2. Rødt lys (15 poeng)\n",
    "\n",
    "\n",
    "### a) Initialverdibetingelsen\n",
    "\n",
    "\n",
    "### b) Verdiene $v_{max}$ og $u_{max}$ og randbetingelsen for $x=1000$.\n",
    "\n",
    "\n",
    "### c) Løs differensiallikningen\n",
    "\n",
    "\n",
    "### d) Bevegelsen til en enkelt bil\n",
    "\n",
    "\n",
    "### e) Hastigheten til en kø\n",
    "\n",
    "\n",
    "### f) Valg av parameter $p$\n",
    "\n"
   ]
  },
  {
   "cell_type": "markdown",
   "metadata": {},
   "source": [
    "## Del 2: Varmeledning\n",
    "\n",
    "\n",
    "## Oppgave 3: Poissonligning, 1D (5 poeng)\n",
    "\n",
    "### a)\n",
    "\n",
    "### b)\n",
    "\n"
   ]
  },
  {
   "cell_type": "markdown",
   "metadata": {},
   "source": [
    "## Oppgave 4: Varmeligning, 1D (5 poeng)"
   ]
  },
  {
   "cell_type": "markdown",
   "metadata": {},
   "source": [
    "## Oppgave 5: Poissonligning, 2D (5 poeng)\n",
    "\n"
   ]
  },
  {
   "cell_type": "markdown",
   "metadata": {},
   "source": [
    "## Oppgave 6: Varmeligning,  (10 poeng)\n",
    "\n",
    "\n",
    "### a)\n",
    "\n",
    "\n",
    "### b)\n",
    "\n",
    "\n",
    "### c)\n",
    "\n",
    "\n",
    "### d)\n",
    "\n"
   ]
  },
  {
   "cell_type": "markdown",
   "metadata": {},
   "source": [
    "## Oppgave 7: Luften skal med (10 poeng)\n",
    "\n",
    "\n",
    "\n",
    "### a)\n",
    "\n",
    "\n",
    "### b)\n",
    "\n",
    "\n",
    "### c)\n",
    "\n"
   ]
  },
  {
   "cell_type": "markdown",
   "metadata": {},
   "source": [
    "## Oppgave 8 (10 poeng)\n",
    "\n"
   ]
  }
 ],
 "metadata": {
  "kernelspec": {
   "display_name": "Python 3 (ipykernel)",
   "language": "python",
   "name": "python3"
  },
  "language_info": {
   "codemirror_mode": {
    "name": "ipython",
    "version": 3
   },
   "file_extension": ".py",
   "mimetype": "text/x-python",
   "name": "python",
   "nbconvert_exporter": "python",
   "pygments_lexer": "ipython3",
   "version": "3.12.8"
  }
 },
 "nbformat": 4,
 "nbformat_minor": 4
}
